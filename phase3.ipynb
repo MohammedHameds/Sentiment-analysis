{
 "cells": [
  {
   "cell_type": "code",
   "execution_count": 1,
   "metadata": {},
   "outputs": [],
   "source": [
    "import random\n",
    "import string\n",
    "import pickle\n",
    "from nltk import NaiveBayesClassifier\n",
    "from nltk.classify import accuracy\n",
    "from nltk.probability import FreqDist\n",
    "from nltk.corpus import movie_reviews, stopwords"
   ]
  },
  {
   "cell_type": "code",
   "execution_count": 2,
   "metadata": {},
   "outputs": [],
   "source": [
    "feature_sets = [f.split('\\t') for f in set(open(\"Feature_Sets_02.txt\", \"r\", encoding='utf-8').read().split(\"\\n\"))]"
   ]
  },
  {
   "cell_type": "code",
   "execution_count": 3,
   "metadata": {},
   "outputs": [],
   "source": [
    "i = 0\n",
    "while i < len(feature_sets):\n",
    "    feature_sets[i][0] = eval(feature_sets[i][0])\n",
    "    i += 1"
   ]
  },
  {
   "cell_type": "code",
   "execution_count": 4,
   "metadata": {},
   "outputs": [
    {
     "name": "stdout",
     "output_type": "stream",
     "text": [
      "Most Informative Features\n",
      "         contains(waste) = True              neg : pos    =      5.4 : 1.0\n",
      "         contains(awful) = True              neg : pos    =      4.9 : 1.0\n",
      "    contains(ridiculous) = True              neg : pos    =      4.9 : 1.0\n",
      "     contains(memorable) = True              pos : neg    =      4.2 : 1.0\n",
      "          contains(dull) = True              neg : pos    =      4.2 : 1.0\n",
      "         contains(worst) = True              neg : pos    =      3.9 : 1.0\n",
      "          contains(mess) = True              neg : pos    =      3.7 : 1.0\n",
      "        contains(stupid) = True              neg : pos    =      3.6 : 1.0\n",
      "        contains(boring) = True              neg : pos    =      3.6 : 1.0\n",
      "     contains(excellent) = True              pos : neg    =      3.5 : 1.0\n",
      "        contains(subtle) = True              pos : neg    =      3.4 : 1.0\n",
      "      contains(terrible) = True              neg : pos    =      3.4 : 1.0\n",
      "     contains(hilarious) = True              pos : neg    =      3.0 : 1.0\n",
      "     contains(effective) = True              pos : neg    =      2.8 : 1.0\n",
      "     contains(perfectly) = True              pos : neg    =      2.8 : 1.0\n",
      "     contains(political) = True              pos : neg    =      2.8 : 1.0\n",
      "     contains(animation) = True              pos : neg    =      2.8 : 1.0\n",
      "       contains(cameron) = True              pos : neg    =      2.7 : 1.0\n",
      "         contains(fails) = True              neg : pos    =      2.7 : 1.0\n",
      "     contains(brilliant) = True              pos : neg    =      2.7 : 1.0\n",
      "0.7666666666666667\n"
     ]
    }
   ],
   "source": [
    "train_set, test_set = feature_sets[:1500], feature_sets[1500:1800]\n",
    "classifier = NaiveBayesClassifier.train(train_set)\n",
    "classifier.show_most_informative_features(20)\n",
    "acc = accuracy(classifier, test_set)\n",
    "print(acc)"
   ]
  },
  {
   "cell_type": "code",
   "execution_count": 5,
   "metadata": {},
   "outputs": [],
   "source": [
    "save_classifier = open(\"NaiveBayesTask.pickle\", 'wb')\n",
    "pickle.dump(classifier, save_classifier)\n",
    "save_classifier.close()"
   ]
  }
 ],
 "metadata": {
  "kernelspec": {
   "display_name": "Python 3.8.8 ('base')",
   "language": "python",
   "name": "python3"
  },
  "language_info": {
   "codemirror_mode": {
    "name": "ipython",
    "version": 3
   },
   "file_extension": ".py",
   "mimetype": "text/x-python",
   "name": "python",
   "nbconvert_exporter": "python",
   "pygments_lexer": "ipython3",
   "version": "3.8.8"
  },
  "orig_nbformat": 4,
  "vscode": {
   "interpreter": {
    "hash": "53d50ed1839d2292cfd39f0644d59e889da85062f836d8db82f8d3a293c0c3a5"
   }
  }
 },
 "nbformat": 4,
 "nbformat_minor": 2
}
